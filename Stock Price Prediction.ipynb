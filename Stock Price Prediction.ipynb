{
 "cells": [
  {
   "cell_type": "markdown",
   "id": "161ea6bb",
   "metadata": {},
   "source": [
    "# Importações"
   ]
  },
  {
   "cell_type": "code",
   "execution_count": 21,
   "id": "016b4e10",
   "metadata": {},
   "outputs": [],
   "source": [
    "import pandas as pd\n",
    "import numpy as np\n",
    "from sklearn import preprocessing\n",
    "from sklearn.model_selection import train_test_split\n",
    "from sklearn.linear_model import LinearRegression"
   ]
  },
  {
   "cell_type": "markdown",
   "id": "e343b7b6",
   "metadata": {},
   "source": [
    "# Data Preparation\n",
    "Bom, essa função aqui em baixo vai preparar o conjunto de dados para que possamos ajustá-lo facilmente no modelo de Regressão Linear. Ela esta toda comentada então vai ser facil de entender"
   ]
  },
  {
   "cell_type": "code",
   "execution_count": 10,
   "id": "30f595dd",
   "metadata": {},
   "outputs": [],
   "source": [
    "def preparation_data(df, forecast_col, forecast_out, test_size):\n",
    "    label = df[forecast_col].shift(-forecast_out) # label vai ter o valores da coluna forecast_col(close) com os 5(forecast_out) como nan\n",
    "    x = np.array(df[[forecast_col]]) # pegando os valores da coluna forecast_col(close) e colocando em x\n",
    "    x = preprocessing.scale(x) #preprocessing dos valroes de x\n",
    "    x_lately = x[-forecast_out:] #Pegando os 5(forecast_out) ultimos valores da variavel x e criando a variavel que vai ser usada para previsão\n",
    "    x = x[:-forecast_out] # x agora vai ficar sem os 5 ultimos valores\n",
    "    label.dropna(inplace=True) #dropando valores nan da variavel label\n",
    "    y = np.array(label) # transformando ele em um array numpy\n",
    "    x_train, x_test, y_train, y_test = train_test_split(x, y, test_size=test_size, random_state=0) #cross validation\n",
    "    \n",
    "    response = [x_train, x_test, y_train, y_test, x_lately]\n",
    "    return response"
   ]
  },
  {
   "cell_type": "markdown",
   "id": "701f9fa4",
   "metadata": {},
   "source": [
    "# Dados da Amazon"
   ]
  },
  {
   "cell_type": "code",
   "execution_count": 19,
   "id": "0ccb6199",
   "metadata": {},
   "outputs": [
    {
     "data": {
      "text/html": [
       "<div>\n",
       "<style scoped>\n",
       "    .dataframe tbody tr th:only-of-type {\n",
       "        vertical-align: middle;\n",
       "    }\n",
       "\n",
       "    .dataframe tbody tr th {\n",
       "        vertical-align: top;\n",
       "    }\n",
       "\n",
       "    .dataframe thead th {\n",
       "        text-align: right;\n",
       "    }\n",
       "</style>\n",
       "<table border=\"1\" class=\"dataframe\">\n",
       "  <thead>\n",
       "    <tr style=\"text-align: right;\">\n",
       "      <th></th>\n",
       "      <th>Date</th>\n",
       "      <th>Open</th>\n",
       "      <th>High</th>\n",
       "      <th>Low</th>\n",
       "      <th>Close</th>\n",
       "      <th>Adj Close</th>\n",
       "      <th>Volume</th>\n",
       "    </tr>\n",
       "  </thead>\n",
       "  <tbody>\n",
       "    <tr>\n",
       "      <th>0</th>\n",
       "      <td>2021-08-17</td>\n",
       "      <td>163.875000</td>\n",
       "      <td>164.024506</td>\n",
       "      <td>161.283997</td>\n",
       "      <td>162.098007</td>\n",
       "      <td>162.098007</td>\n",
       "      <td>67758000</td>\n",
       "    </tr>\n",
       "    <tr>\n",
       "      <th>1</th>\n",
       "      <td>2021-08-18</td>\n",
       "      <td>162.099503</td>\n",
       "      <td>162.705002</td>\n",
       "      <td>160.000000</td>\n",
       "      <td>160.061005</td>\n",
       "      <td>160.061005</td>\n",
       "      <td>56086000</td>\n",
       "    </tr>\n",
       "    <tr>\n",
       "      <th>2</th>\n",
       "      <td>2021-08-19</td>\n",
       "      <td>159.701004</td>\n",
       "      <td>161.649994</td>\n",
       "      <td>159.123001</td>\n",
       "      <td>159.387497</td>\n",
       "      <td>159.387497</td>\n",
       "      <td>75658000</td>\n",
       "    </tr>\n",
       "    <tr>\n",
       "      <th>3</th>\n",
       "      <td>2021-08-20</td>\n",
       "      <td>160.193497</td>\n",
       "      <td>160.390503</td>\n",
       "      <td>158.787994</td>\n",
       "      <td>159.997498</td>\n",
       "      <td>159.997498</td>\n",
       "      <td>67168000</td>\n",
       "    </tr>\n",
       "    <tr>\n",
       "      <th>4</th>\n",
       "      <td>2021-08-23</td>\n",
       "      <td>160.595001</td>\n",
       "      <td>164.044998</td>\n",
       "      <td>160.500504</td>\n",
       "      <td>163.293503</td>\n",
       "      <td>163.293503</td>\n",
       "      <td>65362000</td>\n",
       "    </tr>\n",
       "  </tbody>\n",
       "</table>\n",
       "</div>"
      ],
      "text/plain": [
       "         Date        Open        High         Low       Close   Adj Close  \\\n",
       "0  2021-08-17  163.875000  164.024506  161.283997  162.098007  162.098007   \n",
       "1  2021-08-18  162.099503  162.705002  160.000000  160.061005  160.061005   \n",
       "2  2021-08-19  159.701004  161.649994  159.123001  159.387497  159.387497   \n",
       "3  2021-08-20  160.193497  160.390503  158.787994  159.997498  159.997498   \n",
       "4  2021-08-23  160.595001  164.044998  160.500504  163.293503  163.293503   \n",
       "\n",
       "     Volume  \n",
       "0  67758000  \n",
       "1  56086000  \n",
       "2  75658000  \n",
       "3  67168000  \n",
       "4  65362000  "
      ]
     },
     "execution_count": 19,
     "metadata": {},
     "output_type": "execute_result"
    }
   ],
   "source": [
    "df = pd.read_csv(\"data/AMZN_Price.csv\")\n",
    "df.head()"
   ]
  },
  {
   "cell_type": "markdown",
   "id": "740986a6",
   "metadata": {},
   "source": [
    "# Três variaveis importantes\n",
    "\n",
    "Essas três variáveis são as de entrada conforme já preparado na função criada na seção acima. Precisamos declarar uma variável de entrada mencionando sobre qual coluna queremos prever. A próxima variável que precisamos declarar é o quanto queremos prever. E a última variável que precisamos declarar é quanto deve ser o tamanho do conjunto de teste."
   ]
  },
  {
   "cell_type": "code",
   "execution_count": 12,
   "id": "a611afd1",
   "metadata": {},
   "outputs": [],
   "source": [
    "forecast_col = \"Close\"\n",
    "forecast_out = 5\n",
    "test_size = 0.2"
   ]
  },
  {
   "cell_type": "markdown",
   "id": "541c0679",
   "metadata": {},
   "source": [
    "# Divisão dos dados"
   ]
  },
  {
   "cell_type": "code",
   "execution_count": 14,
   "id": "235c1258",
   "metadata": {},
   "outputs": [],
   "source": [
    "x_train, x_test, y_train, y_test, x_lately = preparation_data(df, forecast_col, forecast_out, test_size)"
   ]
  },
  {
   "cell_type": "markdown",
   "id": "c4aba8b5",
   "metadata": {},
   "source": [
    "# Criação do modelo"
   ]
  },
  {
   "cell_type": "code",
   "execution_count": 15,
   "id": "3853a121",
   "metadata": {},
   "outputs": [
    {
     "data": {
      "text/plain": [
       "LinearRegression()"
      ]
     },
     "execution_count": 15,
     "metadata": {},
     "output_type": "execute_result"
    }
   ],
   "source": [
    "linear = LinearRegression()\n",
    "linear.fit(x_train, y_train)"
   ]
  },
  {
   "cell_type": "markdown",
   "id": "913ee679",
   "metadata": {},
   "source": [
    "# Previsão do modelo e score"
   ]
  },
  {
   "cell_type": "code",
   "execution_count": 18,
   "id": "922e8f8d",
   "metadata": {},
   "outputs": [
    {
     "name": "stdout",
     "output_type": "stream",
     "text": [
      "Precisão: 81.2987123365195\n",
      "Previsão: [141.36474647 144.02420118 143.68604878 145.14829539 143.33877565]\n"
     ]
    }
   ],
   "source": [
    "score = linear.score(x_test,y_test)\n",
    "forecast = linear.predict(x_lately)\n",
    "\n",
    "print(f\"Precisão: {score * 100}\")\n",
    "print(f\"Previsão: {forecast}\")"
   ]
  },
  {
   "cell_type": "markdown",
   "id": "690a30c9",
   "metadata": {},
   "source": [
    "# Referencia\n",
    "\n",
    "- https://scikit-learn.org/stable/modules/generated/sklearn.linear_model.LinearRegression.html\n",
    "- https://scikit-learn.org/stable/modules/preprocessing.html\n",
    "- https://finance.yahoo.com/\n",
    "- https://thecleverprogrammer.com/2020/11/14/stock-price-prediction-using-machine-learning/"
   ]
  },
  {
   "cell_type": "code",
   "execution_count": null,
   "id": "56b23d5e",
   "metadata": {},
   "outputs": [],
   "source": []
  }
 ],
 "metadata": {
  "kernelspec": {
   "display_name": "Python 3 (ipykernel)",
   "language": "python",
   "name": "python3"
  },
  "language_info": {
   "codemirror_mode": {
    "name": "ipython",
    "version": 3
   },
   "file_extension": ".py",
   "mimetype": "text/x-python",
   "name": "python",
   "nbconvert_exporter": "python",
   "pygments_lexer": "ipython3",
   "version": "3.9.7"
  }
 },
 "nbformat": 4,
 "nbformat_minor": 5
}
