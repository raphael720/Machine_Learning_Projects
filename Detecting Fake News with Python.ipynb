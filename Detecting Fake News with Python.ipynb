{
 "cells": [
  {
   "cell_type": "markdown",
   "id": "eab6444e",
   "metadata": {},
   "source": [
    "# O que são Fake News?\n",
    "\n",
    "Bom, podemos dizer que fake news é como se fosse contar uma mentira com algum objetivo, nada mais que uma calúnia, um boato ou uma difamação. Isso geralmente é feito para promover ou impor certas ideias e muitas vezes é alcançado com agendas políticas. Tais notícias podem podem acabar sendo viralizadas por algoritmos, e os usuários podem acabar em uma bolha de filtro."
   ]
  },
  {
   "cell_type": "markdown",
   "id": "1e98b30c",
   "metadata": {},
   "source": [
    "# O que é TfidfVectorizer?\n",
    "\n",
    "TF-IDF significa Frequency Inverse Document Frequency of records. Pode ser definido como o cálculo da relevância de uma palavra em uma série ou corpus para um texto. O significado aumenta proporcionalmente ao número de vezes que uma palavra aparece no texto, mas é compensado pela frequência da palavra no corpus (conjunto de dados).\n",
    "\n",
    "O TfidfVectorizer converte uma coleção de documentos brutos em uma matriz de recursos TF-IDF."
   ]
  },
  {
   "cell_type": "markdown",
   "id": "9f087c50",
   "metadata": {},
   "source": [
    "# O que é um PassiveAggressiveClassifier?\n",
    "\n",
    "O Classificador Agressivo Passivo(PassiveAggressiveClassifier) pertence à categoria de algoritmos de aprendizado online. Ele funciona respondendo como passivo para classificações corretas e respondendo como agressivo para qualquer erro de cálculo."
   ]
  },
  {
   "cell_type": "markdown",
   "id": "53e3ac1d",
   "metadata": {},
   "source": [
    "# Importações"
   ]
  },
  {
   "cell_type": "code",
   "execution_count": 1,
   "id": "ee0c20ed",
   "metadata": {},
   "outputs": [],
   "source": [
    "import numpy as np\n",
    "import pandas as pd\n",
    "import itertools\n",
    "from sklearn.model_selection import train_test_split\n",
    "from sklearn.feature_extraction.text import TfidfVectorizer\n",
    "from sklearn.linear_model import PassiveAggressiveClassifier\n",
    "from sklearn.metrics import accuracy_score, confusion_matrix"
   ]
  },
  {
   "cell_type": "markdown",
   "id": "23239877",
   "metadata": {},
   "source": [
    "# Leitura dos dados e pegando os labels"
   ]
  },
  {
   "cell_type": "code",
   "execution_count": 2,
   "id": "a2ca0614",
   "metadata": {},
   "outputs": [
    {
     "data": {
      "text/html": [
       "<div>\n",
       "<style scoped>\n",
       "    .dataframe tbody tr th:only-of-type {\n",
       "        vertical-align: middle;\n",
       "    }\n",
       "\n",
       "    .dataframe tbody tr th {\n",
       "        vertical-align: top;\n",
       "    }\n",
       "\n",
       "    .dataframe thead th {\n",
       "        text-align: right;\n",
       "    }\n",
       "</style>\n",
       "<table border=\"1\" class=\"dataframe\">\n",
       "  <thead>\n",
       "    <tr style=\"text-align: right;\">\n",
       "      <th></th>\n",
       "      <th>Unnamed: 0</th>\n",
       "      <th>title</th>\n",
       "      <th>text</th>\n",
       "      <th>label</th>\n",
       "    </tr>\n",
       "  </thead>\n",
       "  <tbody>\n",
       "    <tr>\n",
       "      <th>0</th>\n",
       "      <td>8476</td>\n",
       "      <td>You Can Smell Hillary’s Fear</td>\n",
       "      <td>Daniel Greenfield, a Shillman Journalism Fello...</td>\n",
       "      <td>FAKE</td>\n",
       "    </tr>\n",
       "    <tr>\n",
       "      <th>1</th>\n",
       "      <td>10294</td>\n",
       "      <td>Watch The Exact Moment Paul Ryan Committed Pol...</td>\n",
       "      <td>Google Pinterest Digg Linkedin Reddit Stumbleu...</td>\n",
       "      <td>FAKE</td>\n",
       "    </tr>\n",
       "    <tr>\n",
       "      <th>2</th>\n",
       "      <td>3608</td>\n",
       "      <td>Kerry to go to Paris in gesture of sympathy</td>\n",
       "      <td>U.S. Secretary of State John F. Kerry said Mon...</td>\n",
       "      <td>REAL</td>\n",
       "    </tr>\n",
       "    <tr>\n",
       "      <th>3</th>\n",
       "      <td>10142</td>\n",
       "      <td>Bernie supporters on Twitter erupt in anger ag...</td>\n",
       "      <td>— Kaydee King (@KaydeeKing) November 9, 2016 T...</td>\n",
       "      <td>FAKE</td>\n",
       "    </tr>\n",
       "    <tr>\n",
       "      <th>4</th>\n",
       "      <td>875</td>\n",
       "      <td>The Battle of New York: Why This Primary Matters</td>\n",
       "      <td>It's primary day in New York and front-runners...</td>\n",
       "      <td>REAL</td>\n",
       "    </tr>\n",
       "  </tbody>\n",
       "</table>\n",
       "</div>"
      ],
      "text/plain": [
       "   Unnamed: 0                                              title  \\\n",
       "0        8476                       You Can Smell Hillary’s Fear   \n",
       "1       10294  Watch The Exact Moment Paul Ryan Committed Pol...   \n",
       "2        3608        Kerry to go to Paris in gesture of sympathy   \n",
       "3       10142  Bernie supporters on Twitter erupt in anger ag...   \n",
       "4         875   The Battle of New York: Why This Primary Matters   \n",
       "\n",
       "                                                text label  \n",
       "0  Daniel Greenfield, a Shillman Journalism Fello...  FAKE  \n",
       "1  Google Pinterest Digg Linkedin Reddit Stumbleu...  FAKE  \n",
       "2  U.S. Secretary of State John F. Kerry said Mon...  REAL  \n",
       "3  — Kaydee King (@KaydeeKing) November 9, 2016 T...  FAKE  \n",
       "4  It's primary day in New York and front-runners...  REAL  "
      ]
     },
     "execution_count": 2,
     "metadata": {},
     "output_type": "execute_result"
    }
   ],
   "source": [
    "df = pd.read_csv(\"data/news.csv\")\n",
    "df.head()"
   ]
  },
  {
   "cell_type": "code",
   "execution_count": 3,
   "id": "5227af5a",
   "metadata": {},
   "outputs": [
    {
     "data": {
      "text/plain": [
       "0    FAKE\n",
       "1    FAKE\n",
       "2    REAL\n",
       "3    FAKE\n",
       "4    REAL\n",
       "Name: label, dtype: object"
      ]
     },
     "execution_count": 3,
     "metadata": {},
     "output_type": "execute_result"
    }
   ],
   "source": [
    "labels = df.label\n",
    "labels.head()"
   ]
  },
  {
   "cell_type": "markdown",
   "id": "9eebf8ff",
   "metadata": {},
   "source": [
    "# Separando os dados de testes e de treino"
   ]
  },
  {
   "cell_type": "code",
   "execution_count": 4,
   "id": "a5fba5db",
   "metadata": {},
   "outputs": [],
   "source": [
    "x_train, x_test, y_train, y_test = train_test_split(df['text'], labels, test_size=0.2, random_state=7)"
   ]
  },
  {
   "cell_type": "markdown",
   "id": "43ec92af",
   "metadata": {},
   "source": [
    "# Inicializando o TfidfVectorizer\n",
    "Bom, vamos inicializar um TfidfVectorizer com a palavra de parada do idioma inglês e uma frequência máxima do documento de 0,7 (os termos com maior frequência que 70% do documento serão descartados). Palavras de parada são as palavras mais comuns em um idioma que devem ser filtradas antes de processar os dados do idioma natural. E um TfidfVectorizer transforma uma coleção de documentos brutos em uma matriz de recursos TF-IDF."
   ]
  },
  {
   "cell_type": "code",
   "execution_count": 5,
   "id": "d33351c4",
   "metadata": {},
   "outputs": [],
   "source": [
    "tfidf_vectorizer = TfidfVectorizer(stop_words='english', max_df=0.7)\n",
    "\n",
    "# ajuste dos dados\n",
    "tfidf_train = tfidf_vectorizer.fit_transform(x_train)\n",
    "tfidf_test = tfidf_vectorizer.transform(x_test)"
   ]
  },
  {
   "cell_type": "markdown",
   "id": "db94e26f",
   "metadata": {},
   "source": [
    "# Inicializando o PassiveAggressiveClassifier\n",
    "\n",
    "Em seguida, vamos prever no conjunto de teste do TfidfVectorizer e calcular a precisão com precision_score() do sklearn.metrics."
   ]
  },
  {
   "cell_type": "code",
   "execution_count": 6,
   "id": "40945b28",
   "metadata": {},
   "outputs": [
    {
     "name": "stdout",
     "output_type": "stream",
     "text": [
      "Precissão: 92.82%\n"
     ]
    }
   ],
   "source": [
    "pac = PassiveAggressiveClassifier(max_iter=50)\n",
    "pac.fit(tfidf_train, y_train)\n",
    "\n",
    "y_pred = pac.predict(tfidf_test)\n",
    "score = accuracy_score(y_test, y_pred)\n",
    "print(f\"Precissão: {round(score * 100, 2)}%\")"
   ]
  },
  {
   "cell_type": "code",
   "execution_count": 7,
   "id": "40596e31",
   "metadata": {},
   "outputs": [
    {
     "data": {
      "text/plain": [
       "array([[590,  48],\n",
       "       [ 43, 586]])"
      ]
     },
     "execution_count": 7,
     "metadata": {},
     "output_type": "execute_result"
    }
   ],
   "source": [
    "confusion_matrix(y_test, y_pred)"
   ]
  },
  {
   "cell_type": "markdown",
   "id": "9828d0d0",
   "metadata": {},
   "source": [
    "# Referencias\n",
    "\n",
    "- https://scikit-learn.org/stable/modules/generated/sklearn.feature_extraction.text.TfidfVectorizer.html\n",
    "- https://scikit-learn.org/stable/modules/generated/sklearn.linear_model.PassiveAggressiveClassifier.html\n",
    "- https://descomplica.com.br/artigo/fake-news-significado-conceito-e-exemplos/66h/\n",
    "- https://data-flair.training/blogs/advanced-python-project-detecting-fake-news/\n",
    "- https://acervolima.com/compreendendo-tf-idf-termo-frequencia-frequencia-inversa-de-documento/\n",
    "- https://thecleverprogrammer.com/2021/02/10/passive-aggressive-classifier-in-machine-learning/"
   ]
  },
  {
   "cell_type": "code",
   "execution_count": null,
   "id": "596250b8",
   "metadata": {},
   "outputs": [],
   "source": []
  }
 ],
 "metadata": {
  "kernelspec": {
   "display_name": "Python 3 (ipykernel)",
   "language": "python",
   "name": "python3"
  },
  "language_info": {
   "codemirror_mode": {
    "name": "ipython",
    "version": 3
   },
   "file_extension": ".py",
   "mimetype": "text/x-python",
   "name": "python",
   "nbconvert_exporter": "python",
   "pygments_lexer": "ipython3",
   "version": "3.9.7"
  }
 },
 "nbformat": 4,
 "nbformat_minor": 5
}
